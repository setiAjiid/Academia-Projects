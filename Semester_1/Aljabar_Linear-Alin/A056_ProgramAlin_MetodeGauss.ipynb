{
  "nbformat": 4,
  "nbformat_minor": 0,
  "metadata": {
    "colab": {
      "provenance": [],
      "toc_visible": true,
      "include_colab_link": true
    },
    "kernelspec": {
      "name": "python3",
      "display_name": "Python 3"
    },
    "language_info": {
      "name": "python"
    }
  },
  "cells": [
    {
      "cell_type": "markdown",
      "metadata": {
        "id": "view-in-github",
        "colab_type": "text"
      },
      "source": [
        "<a href=\"https://colab.research.google.com/github/setiAjiid/Academia-Projects/blob/main/Semester_1/Aljabar_Linear-Alin/A056_ProgramAlin_MetodeGauss.ipynb\" target=\"_parent\"><img src=\"https://colab.research.google.com/assets/colab-badge.svg\" alt=\"Open In Colab\"/></a>"
      ]
    },
    {
      "cell_type": "markdown",
      "source": [
        "Carilah determinan dari matriks dengan metode Gauss\n",
        "\n",
        "![Screenshot 2024-12-02 091852.png](data:image/png;base64,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)"
      ],
      "metadata": {
        "id": "dVdTMvV9Ke5w"
      }
    },
    {
      "cell_type": "code",
      "source": [
        "# Setup\n",
        "!pip install numpy\n",
        "\n",
        "import numpy as np\n",
        "\n",
        "# Mendefinisikan Matriks\n",
        "matriks = [\n",
        "    [3,6,-3,5],\n",
        "    [-5,-1,7,-2],\n",
        "    [9,4,-2,3],\n",
        "    [4,-5,6,6]\n",
        "]\n",
        "matriks_np = np.array(matriks, dtype=float)\n",
        "\n",
        "# Pajang Matriks\n",
        "len = matriks_np.shape[0]\n",
        "\n",
        "# Tempat determinan\n",
        "det = []\n",
        "\n",
        "# Fungsi Gauss\n",
        "def gauss(matriks, n):\n",
        "    iterasi = 1\n",
        "    for koloms in range(n):\n",
        "        det.append(matriks[koloms][koloms])\n",
        "        print(f\"\\niterasi ke {iterasi}\")\n",
        "        print(f\"Membagi baris {koloms + 1} dengan {matriks[koloms][koloms]}\")\n",
        "        matriks[koloms] = np.round(matriks[koloms] / matriks[koloms][koloms], 2)\n",
        "        print(matriks)\n",
        "\n",
        "        for baris in range(koloms+1, n):\n",
        "            print(f\"\\niterasi ke {iterasi + 1}\")\n",
        "            print(f\"Mengurangi baris {baris + 1} dengan {matriks[baris][koloms]} * baris {koloms + 1}.\")\n",
        "            matriks[baris] = np.round(matriks[baris] - matriks[baris][koloms] * matriks[koloms], 2)\n",
        "            print(matriks)\n",
        "            iterasi += 1\n",
        "        iterasi += 1\n",
        "\n",
        "gauss(matriks_np, len)\n",
        "print(f\"\\nDeterminan = {det[0]} * {det[1]} * {det[2]} * {det[3]}\")\n",
        "print(\"\\nHasil Determinan adalah\", np.prod(det))\n"
      ],
      "metadata": {
        "colab": {
          "base_uri": "https://localhost:8080/"
        },
        "id": "68ryCZSyLoN7",
        "outputId": "119baa77-b6d9-4185-92f6-0cf04b166284"
      },
      "execution_count": null,
      "outputs": [
        {
          "output_type": "stream",
          "name": "stdout",
          "text": [
            "Requirement already satisfied: numpy in /usr/local/lib/python3.10/dist-packages (1.26.4)\n",
            "\n",
            "iterasi ke 1\n",
            "Membagi baris 1 dengan 3.0\n",
            "[[ 1.    2.   -1.    1.67]\n",
            " [-5.   -1.    7.   -2.  ]\n",
            " [ 9.    4.   -2.    3.  ]\n",
            " [ 4.   -5.    6.    6.  ]]\n",
            "\n",
            "iterasi ke 2\n",
            "Mengurangi baris 2 dengan -5.0 * baris 1.\n",
            "[[ 1.    2.   -1.    1.67]\n",
            " [ 0.    9.    2.    6.35]\n",
            " [ 9.    4.   -2.    3.  ]\n",
            " [ 4.   -5.    6.    6.  ]]\n",
            "\n",
            "iterasi ke 3\n",
            "Mengurangi baris 3 dengan 9.0 * baris 1.\n",
            "[[  1.     2.    -1.     1.67]\n",
            " [  0.     9.     2.     6.35]\n",
            " [  0.   -14.     7.   -12.03]\n",
            " [  4.    -5.     6.     6.  ]]\n",
            "\n",
            "iterasi ke 4\n",
            "Mengurangi baris 4 dengan 4.0 * baris 1.\n",
            "[[  1.     2.    -1.     1.67]\n",
            " [  0.     9.     2.     6.35]\n",
            " [  0.   -14.     7.   -12.03]\n",
            " [  0.   -13.    10.    -0.68]]\n",
            "\n",
            "iterasi ke 5\n",
            "Membagi baris 2 dengan 9.0\n",
            "[[  1.     2.    -1.     1.67]\n",
            " [  0.     1.     0.22   0.71]\n",
            " [  0.   -14.     7.   -12.03]\n",
            " [  0.   -13.    10.    -0.68]]\n",
            "\n",
            "iterasi ke 6\n",
            "Mengurangi baris 3 dengan -14.0 * baris 2.\n",
            "[[  1.     2.    -1.     1.67]\n",
            " [  0.     1.     0.22   0.71]\n",
            " [  0.     0.    10.08  -2.09]\n",
            " [  0.   -13.    10.    -0.68]]\n",
            "\n",
            "iterasi ke 7\n",
            "Mengurangi baris 4 dengan -13.0 * baris 2.\n",
            "[[ 1.    2.   -1.    1.67]\n",
            " [ 0.    1.    0.22  0.71]\n",
            " [ 0.    0.   10.08 -2.09]\n",
            " [ 0.    0.   12.86  8.55]]\n",
            "\n",
            "iterasi ke 8\n",
            "Membagi baris 3 dengan 10.08\n",
            "[[ 1.    2.   -1.    1.67]\n",
            " [ 0.    1.    0.22  0.71]\n",
            " [ 0.    0.    1.   -0.21]\n",
            " [ 0.    0.   12.86  8.55]]\n",
            "\n",
            "iterasi ke 9\n",
            "Mengurangi baris 4 dengan 12.86 * baris 3.\n",
            "[[ 1.    2.   -1.    1.67]\n",
            " [ 0.    1.    0.22  0.71]\n",
            " [ 0.    0.    1.   -0.21]\n",
            " [ 0.    0.    0.   11.25]]\n",
            "\n",
            "iterasi ke 10\n",
            "Membagi baris 4 dengan 11.25\n",
            "[[ 1.    2.   -1.    1.67]\n",
            " [ 0.    1.    0.22  0.71]\n",
            " [ 0.    0.    1.   -0.21]\n",
            " [ 0.    0.    0.    1.  ]]\n",
            "\n",
            "Determinan = 3.0 * 9.0 * 10.08 * 11.25\n",
            "\n",
            "Hasil Determinan adalah 3061.8\n"
          ]
        }
      ]
    }
  ]
}