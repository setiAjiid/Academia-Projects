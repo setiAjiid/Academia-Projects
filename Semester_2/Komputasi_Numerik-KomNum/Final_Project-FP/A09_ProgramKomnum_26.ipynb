{
  "nbformat": 4,
  "nbformat_minor": 0,
  "metadata": {
    "colab": {
      "provenance": [],
      "toc_visible": true,
      "include_colab_link": true
    },
    "kernelspec": {
      "name": "python3",
      "display_name": "Python 3"
    },
    "language_info": {
      "name": "python"
    }
  },
  "cells": [
    {
      "cell_type": "markdown",
      "metadata": {
        "id": "view-in-github",
        "colab_type": "text"
      },
      "source": [
        "<a href=\"https://colab.research.google.com/github/setiAjiid/Academia-Projects/blob/main/Semester_2/Komputasi_Numerik-KomNum/Final_Project-FP/A09_ProgramKomnum_26.ipynb\" target=\"_parent\"><img src=\"https://colab.research.google.com/assets/colab-badge.svg\" alt=\"Open In Colab\"/></a>"
      ]
    },
    {
      "cell_type": "code",
      "execution_count": null,
      "metadata": {
        "id": "0PoourAvW3tY"
      },
      "outputs": [],
      "source": [
        "# Final Project Mata Kuliah Komputasi Numerik:\n",
        "# => Memperkirakan Nilai Fungsi di antara titik yang sudah diketahui dengan metode interpolasi Newton-Gregory Backward (NGB)"
      ]
    },
    {
      "cell_type": "code",
      "source": [
        "# Kelompok A09 - Komputasi Numerik A:\n",
        "# 1. Dimas Setiaji (5025241056)\n",
        "# 2. Addien Zafriyan Al Akhsan (5025241058)\n",
        "# 3. Riyan Fadli Amazzadin (5025241068)\n",
        "# 4. Fauzan Hafiz Amandani (5025241087)\n",
        "# 5. Nyoman Surya Hutama Andyartha (5025241093)"
      ],
      "metadata": {
        "id": "gXUmmeRwmqBs"
      },
      "execution_count": null,
      "outputs": []
    },
    {
      "cell_type": "code",
      "source": [
        "import numpy as np\n",
        "from math import factorial"
      ],
      "metadata": {
        "id": "SrtVa47jnIdF"
      },
      "execution_count": null,
      "outputs": []
    },
    {
      "cell_type": "code",
      "source": [
        "def s_product(s, i):\n",
        "    result = s\n",
        "    for k in range(1, i):\n",
        "        result *= (s + k)\n",
        "    return round(result, 2)\n",
        "\n",
        "def NGB(x_full, y_full, xt, h, x0):\n",
        "    idx_x0 = np.where(x_full == x0)[0][0]\n",
        "    x = x_full[:idx_x0 + 1]\n",
        "    y = y_full[:idx_x0 + 1]\n",
        "    n = len(x)\n",
        "    diff = np.zeros((n, n))\n",
        "    diff[:, 0] = y\n",
        "\n",
        "    print(\"\\nPerhitungan untuk setiap selisih nilai fungsi/delta:\\n\")\n",
        "    for i in range(1, n):\n",
        "        for j in range(n - 1, i - 1, -1):\n",
        "            diff[j, i] = round(diff[j, i - 1] - diff[j - 1, i - 1], 2)\n",
        "            print(f\"Δ^{i}y[{j}] = {diff[j, i]:.2f}\")\n",
        "\n",
        "    print(\"\\nPerhitungan untuk NGB:\\n\")\n",
        "    s = round((xt - x0) / h, 2)\n",
        "    print(f\"s = {s:.2f}\")\n",
        "    result = round(diff[-1, 0], 2)\n",
        "\n",
        "    for i in range(1, n):\n",
        "        s_term = round(s_product(s, i) / factorial(i), 2)\n",
        "        term = round(s_term * diff[n - 1, i], 2)\n",
        "        print(f\"Term for i={i}: {term:.2f} (s_term={s_term:.2f}, Δ^{i}y={diff[n - 1, i]:.2f})\")\n",
        "        result = round(result + term, 2)\n",
        "\n",
        "    print(f\"\\nHasil Akhir dari Newton Gregory Backward: {result:.2f}\")\n",
        "    return result"
      ],
      "metadata": {
        "id": "LLWE0Hacnb77"
      },
      "execution_count": null,
      "outputs": []
    },
    {
      "cell_type": "code",
      "source": [
        "import numpy as np\n",
        "from math import factorial\n",
        "\n",
        "x = np.array([3, 6, 9, 12, 15, 18, 21, 24, 27], dtype=float)\n",
        "y = np.array([-741, -186, 32121, 184956, 634575, 1673874, 3741549, 7451256, 13620771], dtype=float)\n",
        "\n",
        "xt = 16        # Titik yang ingin diinterpolasi\n",
        "yt = 897103    # Nilai y sebenarnya\n",
        "x0 = 15        # Basis backward\n",
        "h = 3          # Selisih antar x\n",
        "\n",
        "f16 = NGB(x, y, xt, h, x0)\n",
        "\n",
        "Et = round(abs((yt - f16) / yt) * 100, 2)\n",
        "print(f\"\\nEt (Error True) = {Et:.2f}\")"
      ],
      "metadata": {
        "colab": {
          "base_uri": "https://localhost:8080/"
        },
        "id": "ni_IoG3BoOKn",
        "outputId": "7767e8df-ea38-4978-9602-1594e58c513a"
      },
      "execution_count": null,
      "outputs": [
        {
          "output_type": "stream",
          "name": "stdout",
          "text": [
            "\n",
            "Perhitungan untuk setiap selisih nilai fungsi/delta:\n",
            "\n",
            "Δ^1y[4] = 449619.00\n",
            "Δ^1y[3] = 152835.00\n",
            "Δ^1y[2] = 32307.00\n",
            "Δ^1y[1] = 555.00\n",
            "Δ^2y[4] = 296784.00\n",
            "Δ^2y[3] = 120528.00\n",
            "Δ^2y[2] = 31752.00\n",
            "Δ^3y[4] = 176256.00\n",
            "Δ^3y[3] = 88776.00\n",
            "Δ^4y[4] = 87480.00\n",
            "\n",
            "Perhitungan untuk NGB:\n",
            "\n",
            "s = 0.33\n",
            "Term for i=1: 148374.27 (s_term=0.33, Δ^1y=449619.00)\n",
            "Term for i=2: 65292.48 (s_term=0.22, Δ^2y=296784.00)\n",
            "Term for i=3: 29963.52 (s_term=0.17, Δ^3y=176256.00)\n",
            "Term for i=4: 12247.20 (s_term=0.14, Δ^4y=87480.00)\n",
            "\n",
            "Hasil Akhir dari Newton Gregory Backward: 890452.47\n",
            "\n",
            "Et (Error True) = 0.74\n"
          ]
        }
      ]
    },
    {
      "cell_type": "code",
      "source": [],
      "metadata": {
        "id": "f26A9AgyocFG"
      },
      "execution_count": null,
      "outputs": []
    }
  ]
}